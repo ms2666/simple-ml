{
 "cells": [
  {
   "cell_type": "code",
   "execution_count": 1,
   "id": "41eac795-125f-4e00-91ca-31936842e640",
   "metadata": {},
   "outputs": [],
   "source": [
    "%load_ext autoreload\n",
    "%autoreload 2"
   ]
  },
  {
   "cell_type": "code",
   "execution_count": 2,
   "id": "7e793cea-ae10-4dd3-a5e6-eca499e1ef97",
   "metadata": {},
   "outputs": [],
   "source": [
    "import numpy as np\n",
    "import matplotlib.pyplot as plt"
   ]
  },
  {
   "cell_type": "markdown",
   "id": "3a18917f-487b-44a9-bb37-123de1e90c18",
   "metadata": {},
   "source": [
    "Let $x \\in \\mathbb{R}^d$ be the input to a transformer layer. An absolute positional encoding is just a vector $p \\in \\mathbb{R}^d$ that gets added to $x$ before attention.\n",
    "\n",
    "The important thing to note is that the positional encoding $p_j$ where $j \\in [1, 2, ..., d]$ depends on absolute position $j$ in $x$."
   ]
  },
  {
   "cell_type": "code",
   "execution_count": null,
   "id": "df8118be-7e65-4521-9785-634e5c4b5e0c",
   "metadata": {},
   "outputs": [],
   "source": []
  }
 ],
 "metadata": {
  "kernelspec": {
   "display_name": "Python 3 (ipykernel)",
   "language": "python",
   "name": "python3"
  },
  "language_info": {
   "codemirror_mode": {
    "name": "ipython",
    "version": 3
   },
   "file_extension": ".py",
   "mimetype": "text/x-python",
   "name": "python",
   "nbconvert_exporter": "python",
   "pygments_lexer": "ipython3",
   "version": "3.12.7"
  }
 },
 "nbformat": 4,
 "nbformat_minor": 5
}
