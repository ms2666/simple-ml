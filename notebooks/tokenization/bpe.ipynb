{
 "cells": [
  {
   "cell_type": "code",
   "execution_count": 1,
   "id": "17b806f4-e6ec-4d84-b99c-e507f84f9b3a",
   "metadata": {},
   "outputs": [],
   "source": [
    "%load_ext autoreload\n",
    "%autoreload 2"
   ]
  },
  {
   "cell_type": "code",
   "execution_count": 2,
   "id": "d6df3ed8-ed0c-4bcd-9347-47e7562ccf8f",
   "metadata": {},
   "outputs": [],
   "source": [
    "from simple_ml.tokenizers import bpe\n",
    "import json\n",
    "from pathlib import Path\n",
    "from tqdm.auto import tqdm\n",
    "import concurrent.futures\n",
    "import orjson"
   ]
  },
  {
   "cell_type": "code",
   "execution_count": 3,
   "id": "8dfa751d-cb84-44d9-81d6-0c468a3af852",
   "metadata": {},
   "outputs": [],
   "source": [
    "datafolder = Path('../../data/arxiv/')"
   ]
  },
  {
   "cell_type": "code",
   "execution_count": 4,
   "id": "dd69b05f-b682-4cf8-80cf-6a4595c31e68",
   "metadata": {},
   "outputs": [],
   "source": [
    "def process_file(filename):\n",
    "    local_abstracts = []\n",
    "    local_count = 0\n",
    "    with open(filename, 'rb') as f:\n",
    "        for line in f:\n",
    "            local_count += 1\n",
    "            try:\n",
    "                obj = orjson.loads(line)\n",
    "                abstract = obj.get('abstract', b'').decode('utf-8') if isinstance(obj.get('abstract', ''), bytes) else obj.get('abstract', '')\n",
    "                local_abstracts.append(abstract)\n",
    "            except orjson.JSONDecodeError:\n",
    "                # Handle or skip malformed JSON lines if necessary\n",
    "                pass\n",
    "    return local_count, local_abstracts"
   ]
  },
  {
   "cell_type": "code",
   "execution_count": 5,
   "id": "5f506119-1b5c-4fb9-a2f1-9c28559a270f",
   "metadata": {},
   "outputs": [],
   "source": [
    "# Collect all JSONL files\n",
    "files = list(datafolder.glob('*.jsonl'))"
   ]
  },
  {
   "cell_type": "code",
   "execution_count": 6,
   "id": "48910da3-725a-42ff-9b36-5cf5b109309c",
   "metadata": {},
   "outputs": [
    {
     "data": {
      "application/vnd.jupyter.widget-view+json": {
       "model_id": "3f23bf1f86bd4180b947e0a53f1a37d4",
       "version_major": 2,
       "version_minor": 0
      },
      "text/plain": [
       "Processing files:   0%|          | 0/2 [00:00<?, ?it/s]"
      ]
     },
     "metadata": {},
     "output_type": "display_data"
    }
   ],
   "source": [
    "n_samples = 0\n",
    "abstracts = []\n",
    "\n",
    "# Use ThreadPoolExecutor for I/O-bound tasks\n",
    "with concurrent.futures.ThreadPoolExecutor(max_workers=10) as executor:\n",
    "    # Use tqdm to display a progress bar\n",
    "    results = list(tqdm(executor.map(process_file, files), total=len(files), desc=\"Processing files\"))"
   ]
  },
  {
   "cell_type": "code",
   "execution_count": 7,
   "id": "3b6d6754-0864-41d0-96d6-755eb45ab3f6",
   "metadata": {},
   "outputs": [],
   "source": [
    "# Aggregate results\n",
    "for count, abstracts_list in results:\n",
    "    n_samples += count\n",
    "    abstracts.extend(abstracts_list)"
   ]
  },
  {
   "cell_type": "code",
   "execution_count": 8,
   "id": "4f247494-f339-4cdc-b26c-a3fe6fe90cd0",
   "metadata": {},
   "outputs": [],
   "source": [
    "# Join all abstracts into a single string\n",
    "s = ''.join(abstracts)"
   ]
  },
  {
   "cell_type": "code",
   "execution_count": 16,
   "id": "d431716e-cda9-4887-a4dc-6d43702c61da",
   "metadata": {},
   "outputs": [],
   "source": [
    "tokenizer = bpe.BasicTokenizer(vocab_size=1024)"
   ]
  },
  {
   "cell_type": "code",
   "execution_count": 17,
   "id": "284d1315-da45-4724-8d95-02c3b55a0257",
   "metadata": {},
   "outputs": [
    {
     "data": {
      "application/vnd.jupyter.widget-view+json": {
       "model_id": "2b72c78e218a41389ccb78e469721f97",
       "version_major": 2,
       "version_minor": 0
      },
      "text/plain": [
       "Training BPE:   0%|          | 0/768 [00:00<?, ?it/s]"
      ]
     },
     "metadata": {},
     "output_type": "display_data"
    }
   ],
   "source": [
    "# just use the first 10K characters to avoid memory overflow\n",
    "tokenizer.train(s[:10000])"
   ]
  },
  {
   "cell_type": "code",
   "execution_count": null,
   "id": "f3058d46-da85-4c82-ad4e-bf8949bd9e09",
   "metadata": {
    "scrolled": true
   },
   "outputs": [],
   "source": []
  },
  {
   "cell_type": "code",
   "execution_count": null,
   "id": "fabe2e76-f3d4-49f9-872c-4f5fd95cc34b",
   "metadata": {},
   "outputs": [],
   "source": []
  },
  {
   "cell_type": "code",
   "execution_count": 6,
   "id": "91237281-df7c-4595-8fcf-dd182d9854e9",
   "metadata": {},
   "outputs": [],
   "source": [
    "s = \"नमस्ते\""
   ]
  },
  {
   "cell_type": "code",
   "execution_count": 7,
   "id": "14c27b91-81f8-498b-a07e-56b04e58fd02",
   "metadata": {},
   "outputs": [],
   "source": [
    "a = list(s.encode('utf-8'))"
   ]
  },
  {
   "cell_type": "code",
   "execution_count": 8,
   "id": "d000a859-98c6-4118-a6c8-40f221851af2",
   "metadata": {},
   "outputs": [],
   "source": [
    "vocab = {i:bytes([i]) for i in range(256)}"
   ]
  },
  {
   "cell_type": "code",
   "execution_count": 9,
   "id": "b7c4b16f-817d-4409-bd89-7e137736c167",
   "metadata": {},
   "outputs": [
    {
     "data": {
      "text/plain": [
       "[224, 164, 168]"
      ]
     },
     "execution_count": 9,
     "metadata": {},
     "output_type": "execute_result"
    }
   ],
   "source": [
    "a[:3]"
   ]
  },
  {
   "cell_type": "code",
   "execution_count": null,
   "id": "e4d0e885-fed9-48f6-8c02-7276e4731759",
   "metadata": {
    "scrolled": true
   },
   "outputs": [],
   "source": []
  },
  {
   "cell_type": "code",
   "execution_count": 10,
   "id": "49468ad3-717a-4237-b29b-5ac56dc937e9",
   "metadata": {},
   "outputs": [
    {
     "data": {
      "text/plain": [
       "'न'"
      ]
     },
     "execution_count": 10,
     "metadata": {},
     "output_type": "execute_result"
    }
   ],
   "source": [
    "b\"\".join([vocab.get(ai) for ai in a[:3]]).decode('utf-8')"
   ]
  },
  {
   "cell_type": "code",
   "execution_count": 11,
   "id": "d1fa3b35-bcf9-4e13-8e97-7c76cb1690fe",
   "metadata": {},
   "outputs": [
    {
     "data": {
      "text/plain": [
       "'नमस्'"
      ]
     },
     "execution_count": 11,
     "metadata": {},
     "output_type": "execute_result"
    }
   ],
   "source": [
    "b\"\".join([vocab.get(ai) for ai in a][:-6]).decode('utf-8', errors='replace')"
   ]
  },
  {
   "cell_type": "code",
   "execution_count": null,
   "id": "a86d2e0b-2bf1-4607-b043-48fc58badc96",
   "metadata": {},
   "outputs": [],
   "source": []
  }
 ],
 "metadata": {
  "kernelspec": {
   "display_name": "Python 3 (ipykernel)",
   "language": "python",
   "name": "python3"
  },
  "language_info": {
   "codemirror_mode": {
    "name": "ipython",
    "version": 3
   },
   "file_extension": ".py",
   "mimetype": "text/x-python",
   "name": "python",
   "nbconvert_exporter": "python",
   "pygments_lexer": "ipython3",
   "version": "3.12.8"
  }
 },
 "nbformat": 4,
 "nbformat_minor": 5
}
