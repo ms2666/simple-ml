{
 "cells": [
  {
   "cell_type": "code",
   "execution_count": 1,
   "id": "17b806f4-e6ec-4d84-b99c-e507f84f9b3a",
   "metadata": {},
   "outputs": [],
   "source": [
    "%load_ext autoreload\n",
    "%autoreload 2"
   ]
  },
  {
   "cell_type": "code",
   "execution_count": 2,
   "id": "d6df3ed8-ed0c-4bcd-9347-47e7562ccf8f",
   "metadata": {},
   "outputs": [],
   "source": [
    "from simple_ml.tokenizers import bpe"
   ]
  },
  {
   "cell_type": "code",
   "execution_count": null,
   "id": "faa33da5-2c82-44ca-b6ad-305294dcce03",
   "metadata": {},
   "outputs": [],
   "source": []
  },
  {
   "cell_type": "code",
   "execution_count": 12,
   "id": "8e22b817-e1a3-442f-948e-9f8950b089ba",
   "metadata": {},
   "outputs": [],
   "source": [
    "tokenizer = bpe.BasicTokenizer()"
   ]
  },
  {
   "cell_type": "code",
   "execution_count": 17,
   "id": "fabe2e76-f3d4-49f9-872c-4f5fd95cc34b",
   "metadata": {},
   "outputs": [],
   "source": [
    "tokenizer.train('hi my name is slim shady. hi my name is. my name is. name is.', vocab_size=260)"
   ]
  },
  {
   "cell_type": "code",
   "execution_count": 29,
   "id": "0c3f424f-c203-45c8-8d52-6d68911d48cf",
   "metadata": {
    "scrolled": true
   },
   "outputs": [
    {
     "data": {
      "text/plain": [
       "'hi my name is slim shady'"
      ]
     },
     "execution_count": 29,
     "metadata": {},
     "output_type": "execute_result"
    }
   ],
   "source": [
    "tokenizer.decode(tokenizer.encode('hi my name is slim shady'))"
   ]
  },
  {
   "cell_type": "code",
   "execution_count": 23,
   "id": "91237281-df7c-4595-8fcf-dd182d9854e9",
   "metadata": {},
   "outputs": [],
   "source": [
    "s = \"नमस्ते\""
   ]
  },
  {
   "cell_type": "code",
   "execution_count": 24,
   "id": "14c27b91-81f8-498b-a07e-56b04e58fd02",
   "metadata": {},
   "outputs": [],
   "source": [
    "a = list(s.encode('utf-8'))"
   ]
  },
  {
   "cell_type": "code",
   "execution_count": 25,
   "id": "d000a859-98c6-4118-a6c8-40f221851af2",
   "metadata": {},
   "outputs": [],
   "source": [
    "vocab = {i:bytes([i]) for i in range(256)}"
   ]
  },
  {
   "cell_type": "code",
   "execution_count": 26,
   "id": "b7c4b16f-817d-4409-bd89-7e137736c167",
   "metadata": {},
   "outputs": [
    {
     "data": {
      "text/plain": [
       "[224, 164, 168]"
      ]
     },
     "execution_count": 26,
     "metadata": {},
     "output_type": "execute_result"
    }
   ],
   "source": [
    "a[:3]"
   ]
  },
  {
   "cell_type": "code",
   "execution_count": null,
   "id": "e4d0e885-fed9-48f6-8c02-7276e4731759",
   "metadata": {
    "scrolled": true
   },
   "outputs": [],
   "source": []
  },
  {
   "cell_type": "code",
   "execution_count": 27,
   "id": "49468ad3-717a-4237-b29b-5ac56dc937e9",
   "metadata": {},
   "outputs": [
    {
     "data": {
      "text/plain": [
       "'न'"
      ]
     },
     "execution_count": 27,
     "metadata": {},
     "output_type": "execute_result"
    }
   ],
   "source": [
    "b\"\".join([vocab.get(ai) for ai in a[:3]]).decode('utf-8')"
   ]
  },
  {
   "cell_type": "code",
   "execution_count": 28,
   "id": "d1fa3b35-bcf9-4e13-8e97-7c76cb1690fe",
   "metadata": {},
   "outputs": [
    {
     "data": {
      "text/plain": [
       "'नमस्'"
      ]
     },
     "execution_count": 28,
     "metadata": {},
     "output_type": "execute_result"
    }
   ],
   "source": [
    "b\"\".join([vocab.get(ai) for ai in a][:-6]).decode('utf-8', errors='replace')"
   ]
  },
  {
   "cell_type": "code",
   "execution_count": null,
   "id": "a86d2e0b-2bf1-4607-b043-48fc58badc96",
   "metadata": {},
   "outputs": [],
   "source": []
  }
 ],
 "metadata": {
  "kernelspec": {
   "display_name": "Python 3 (ipykernel)",
   "language": "python",
   "name": "python3"
  },
  "language_info": {
   "codemirror_mode": {
    "name": "ipython",
    "version": 3
   },
   "file_extension": ".py",
   "mimetype": "text/x-python",
   "name": "python",
   "nbconvert_exporter": "python",
   "pygments_lexer": "ipython3",
   "version": "3.12.7"
  }
 },
 "nbformat": 4,
 "nbformat_minor": 5
}
