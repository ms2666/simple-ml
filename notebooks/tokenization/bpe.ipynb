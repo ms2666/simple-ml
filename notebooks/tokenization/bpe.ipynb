{
 "cells": [
  {
   "cell_type": "code",
   "execution_count": 1,
   "id": "17b806f4-e6ec-4d84-b99c-e507f84f9b3a",
   "metadata": {},
   "outputs": [],
   "source": [
    "%load_ext autoreload\n",
    "%autoreload 2"
   ]
  },
  {
   "cell_type": "code",
   "execution_count": 119,
   "id": "d6df3ed8-ed0c-4bcd-9347-47e7562ccf8f",
   "metadata": {},
   "outputs": [],
   "source": [
    "from collections import Counter\n",
    "\n",
    "def get_stats(ids):\n",
    "    \"\"\"\n",
    "    Count frequency of consecutive pairs in the list of ids.\n",
    "    \n",
    "    Args:\n",
    "        ids (list of int): List of token IDs.\n",
    "    \n",
    "    Returns:\n",
    "        Counter: A Counter object mapping pairs to their frequencies.\n",
    "    \"\"\"\n",
    "    return Counter(zip(ids, ids[1:]))\n",
    "\n",
    "def merge(ids, pair, idx):\n",
    "    \"\"\"\n",
    "    Merge a specified pair in the list of ids into a new id.\n",
    "    \n",
    "    Args:\n",
    "        ids (list of int): Current list of token IDs.\n",
    "        pair (tuple of int): The pair of IDs to merge.\n",
    "        idx (int): The new ID to replace the merged pair.\n",
    "    \n",
    "    Returns:\n",
    "        list of int: The updated list of token IDs after merging.\n",
    "    \"\"\"\n",
    "    new_ids = []\n",
    "    i = 0\n",
    "    pair_len = len(pair)\n",
    "    while i < len(ids):\n",
    "        # Check if the current and next IDs form the target pair\n",
    "        if i < len(ids) - 1 and (ids[i], ids[i + 1]) == pair:\n",
    "            new_ids.append(idx)\n",
    "            i += 2  # Skip the next ID as it's part of the merged pair\n",
    "        else:\n",
    "            new_ids.append(ids[i])\n",
    "            i += 1\n",
    "    return new_ids\n",
    "\n",
    "class BasicTokenizer:\n",
    "    def __init__(self):\n",
    "        self.vocab = {}\n",
    "        self.merges = {}\n",
    "    \n",
    "    def train(self, text, vocab_size, verbose=False):\n",
    "        \"\"\"\n",
    "        Train the tokenizer on the provided text to build the vocabulary.\n",
    "        \n",
    "        Args:\n",
    "            text (str): The input text to train on.\n",
    "            vocab_size (int): The desired size of the vocabulary.\n",
    "            verbose (bool): If True, print progress messages.\n",
    "        \"\"\"\n",
    "        # Initialize vocabulary with single-byte tokens\n",
    "        ids = list(text.encode(\"utf-8\"))\n",
    "        # using 2^8 = 256 because a byte is 8 bits. So 255 is the max value a single byte can take\n",
    "        self.vocab = {i: bytes([i]) for i in range(256)}\n",
    "        self.merges = {}\n",
    "        \n",
    "        for i in range(vocab_size - 256):\n",
    "            stats = get_stats(ids)\n",
    "            if not stats:\n",
    "                break\n",
    "            # Select the most frequent pair\n",
    "            pair, freq = stats.most_common(1)[0]\n",
    "            idx = 256 + i\n",
    "            # Merge the selected pair\n",
    "            ids = merge(ids, pair, idx)\n",
    "            # Update merges and vocabulary\n",
    "            self.merges[pair] = idx\n",
    "            self.vocab[idx] = self.vocab[pair[0]] + self.vocab[pair[1]]\n",
    "            if verbose:\n",
    "                merged_bytes = self.vocab[idx]\n",
    "                print(f\"Merge {i+1}/{vocab_size - 256}: {pair} -> {idx} ({merged_bytes}) occurred {freq} times\")\n",
    "    \n",
    "    def decode(self, ids):\n",
    "        \"\"\"\n",
    "        Decode a list of IDs back into a string.\n",
    "        \n",
    "        Args:\n",
    "            ids (list of int): List of token IDs.\n",
    "        \n",
    "        Returns:\n",
    "            str: The decoded string.\n",
    "        \"\"\"\n",
    "        return b\"\".join(self.vocab.get(idx, b\"?\") for idx in ids).decode(\"utf-8\", errors=\"replace\")\n",
    "    \n",
    "    def encode(self, text):\n",
    "        \"\"\"\n",
    "        Encode a string into a list of token IDs based on the trained merges.\n",
    "        \n",
    "        Args:\n",
    "            text (str): The input text to encode.\n",
    "        \n",
    "        Returns:\n",
    "            list of int: The list of token IDs.\n",
    "        \"\"\"\n",
    "        ids = list(text.encode(\"utf-8\"))\n",
    "        while len(ids) >= 2:\n",
    "            stats = get_stats(ids)\n",
    "            # Find the pair with the smallest merge index (earliest merged)\n",
    "            pair = min(\n",
    "                stats.keys(),\n",
    "                key=lambda p: self.merges.get(p, float(\"inf\"))\n",
    "            )\n",
    "            if pair not in self.merges:\n",
    "                break\n",
    "            ids = merge(ids, pair, self.merges[pair])\n",
    "        return ids\n"
   ]
  },
  {
   "cell_type": "code",
   "execution_count": null,
   "id": "faa33da5-2c82-44ca-b6ad-305294dcce03",
   "metadata": {},
   "outputs": [],
   "source": []
  },
  {
   "cell_type": "code",
   "execution_count": 120,
   "id": "91237281-df7c-4595-8fcf-dd182d9854e9",
   "metadata": {},
   "outputs": [],
   "source": [
    "s = \"नमस्ते\""
   ]
  },
  {
   "cell_type": "code",
   "execution_count": 124,
   "id": "14c27b91-81f8-498b-a07e-56b04e58fd02",
   "metadata": {},
   "outputs": [],
   "source": [
    "a = list(s.encode('utf-8'))"
   ]
  },
  {
   "cell_type": "code",
   "execution_count": 132,
   "id": "d000a859-98c6-4118-a6c8-40f221851af2",
   "metadata": {},
   "outputs": [],
   "source": [
    "vocab = {i:bytes([i]) for i in range(256)}"
   ]
  },
  {
   "cell_type": "code",
   "execution_count": 152,
   "id": "b7c4b16f-817d-4409-bd89-7e137736c167",
   "metadata": {},
   "outputs": [
    {
     "data": {
      "text/plain": [
       "[224, 164, 168]"
      ]
     },
     "execution_count": 152,
     "metadata": {},
     "output_type": "execute_result"
    }
   ],
   "source": [
    "a[:3]"
   ]
  },
  {
   "cell_type": "code",
   "execution_count": null,
   "id": "e4d0e885-fed9-48f6-8c02-7276e4731759",
   "metadata": {
    "scrolled": true
   },
   "outputs": [],
   "source": []
  },
  {
   "cell_type": "code",
   "execution_count": 150,
   "id": "49468ad3-717a-4237-b29b-5ac56dc937e9",
   "metadata": {},
   "outputs": [
    {
     "data": {
      "text/plain": [
       "'न'"
      ]
     },
     "execution_count": 150,
     "metadata": {},
     "output_type": "execute_result"
    }
   ],
   "source": [
    "b\"\".join([vocab.get(ai) for ai in a[:3]]).decode('utf-8')"
   ]
  },
  {
   "cell_type": "code",
   "execution_count": 146,
   "id": "d1fa3b35-bcf9-4e13-8e97-7c76cb1690fe",
   "metadata": {},
   "outputs": [
    {
     "data": {
      "text/plain": [
       "'नमस्'"
      ]
     },
     "execution_count": 146,
     "metadata": {},
     "output_type": "execute_result"
    }
   ],
   "source": [
    "b\"\".join([vocab.get(ai) for ai in a][:-6]).decode('utf-8', errors='replace')"
   ]
  },
  {
   "cell_type": "code",
   "execution_count": null,
   "id": "83556077-512f-48de-96c0-ccaf2d9b9c03",
   "metadata": {},
   "outputs": [],
   "source": []
  },
  {
   "cell_type": "code",
   "execution_count": null,
   "id": "43372cb6-e2a7-4f64-abfc-3bca2b9d3b8a",
   "metadata": {},
   "outputs": [],
   "source": []
  },
  {
   "cell_type": "code",
   "execution_count": null,
   "id": "efe51e61-0e7b-4a63-8838-a7c91f0a28d0",
   "metadata": {},
   "outputs": [],
   "source": []
  },
  {
   "cell_type": "code",
   "execution_count": null,
   "id": "22d45409-4646-4352-a3ef-2a4ffd89a057",
   "metadata": {},
   "outputs": [],
   "source": []
  },
  {
   "cell_type": "code",
   "execution_count": null,
   "id": "a86d2e0b-2bf1-4607-b043-48fc58badc96",
   "metadata": {},
   "outputs": [],
   "source": []
  }
 ],
 "metadata": {
  "kernelspec": {
   "display_name": "Python 3 (ipykernel)",
   "language": "python",
   "name": "python3"
  },
  "language_info": {
   "codemirror_mode": {
    "name": "ipython",
    "version": 3
   },
   "file_extension": ".py",
   "mimetype": "text/x-python",
   "name": "python",
   "nbconvert_exporter": "python",
   "pygments_lexer": "ipython3",
   "version": "3.12.7"
  }
 },
 "nbformat": 4,
 "nbformat_minor": 5
}
